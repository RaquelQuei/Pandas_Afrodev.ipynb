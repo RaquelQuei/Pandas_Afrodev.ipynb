{
  "nbformat": 4,
  "nbformat_minor": 0,
  "metadata": {
    "colab": {
      "name": "Pandas_Afrodev.ipynb",
      "provenance": [],
      "collapsed_sections": [],
      "mount_file_id": "1BljX0-iMewY94iGj4yA3XQXsflg0Cpki",
      "authorship_tag": "ABX9TyP6jNeVr27VA5K2kia8Pp5o",
      "include_colab_link": true
    },
    "kernelspec": {
      "name": "python3",
      "display_name": "Python 3"
    },
    "language_info": {
      "name": "python"
    }
  },
  "cells": [
    {
      "cell_type": "markdown",
      "metadata": {
        "id": "view-in-github",
        "colab_type": "text"
      },
      "source": [
        "<a href=\"https://colab.research.google.com/github/RaquelQuei/Pandas_Afrodev.ipynb/blob/main/Pandas_Afrodev.ipynb\" target=\"_parent\"><img src=\"https://colab.research.google.com/assets/colab-badge.svg\" alt=\"Open In Colab\"/></a>"
      ]
    },
    {
      "cell_type": "markdown",
      "metadata": {
        "id": "DblN1aw91YEJ"
      },
      "source": [
        "# Atividade com Pandas "
      ]
    },
    {
      "cell_type": "code",
      "metadata": {
        "id": "JItLv7MVXL1D"
      },
      "source": [
        "import pandas as pd\n",
        "from datetime import date\n",
        "import matplotlib.pyplot as plt\n",
        "plt.style.use('seaborn-whitegrid')"
      ],
      "execution_count": 5,
      "outputs": []
    },
    {
      "cell_type": "code",
      "metadata": {
        "id": "37mLvpgZYamp"
      },
      "source": [
        "df = pd.read_excel(\"/content/drive/MyDrive/Afrodev/estudo_io.xlsx\")"
      ],
      "execution_count": 6,
      "outputs": []
    },
    {
      "cell_type": "markdown",
      "metadata": {
        "id": "4g0E85OW5KnT"
      },
      "source": [
        "1. Criar uma nova coluna com a idade das pessoas.\n",
        "2. Exibir quem tem o maior e o menor saldo bancário.\n",
        "3. Exibir quem tem o maior e o menor gasto acumulado.\n",
        "4. Exibir a média de gastos de cada um."
      ]
    },
    {
      "cell_type": "code",
      "metadata": {
        "id": "ijrXyhgBc9NB"
      },
      "source": [
        "df.sort_values(by= \"nome\", inplace= True) # reordena o dataframe pela coluna desejada, no caso a col nome"
      ],
      "execution_count": 7,
      "outputs": []
    },
    {
      "cell_type": "code",
      "metadata": {
        "id": "9TQHup2Iaqwr"
      },
      "source": [
        "# Substituindo valores nulos por 0\n",
        "df = df.fillna(0)"
      ],
      "execution_count": 8,
      "outputs": []
    },
    {
      "cell_type": "markdown",
      "metadata": {
        "id": "60mrtC7Qra0Y"
      },
      "source": [
        "#1 - Idade"
      ]
    },
    {
      "cell_type": "code",
      "metadata": {
        "id": "NuHFZ2scqj20"
      },
      "source": [
        "data_atual = date.today()\n",
        "ano_atual = data_atual.year\n",
        "df['idade'] = ano_atual - df['ano nascimento']"
      ],
      "execution_count": 9,
      "outputs": []
    },
    {
      "cell_type": "code",
      "metadata": {
        "id": "rByhoxaUbQaM",
        "colab": {
          "base_uri": "https://localhost:8080/",
          "height": 265
        },
        "outputId": "c31e4efa-1638-4ca9-fe0d-aa1ab4e224d0"
      },
      "source": [
        "# Visualizando \n",
        "df"
      ],
      "execution_count": 10,
      "outputs": [
        {
          "output_type": "execute_result",
          "data": {
            "text/html": [
              "<div>\n",
              "<style scoped>\n",
              "    .dataframe tbody tr th:only-of-type {\n",
              "        vertical-align: middle;\n",
              "    }\n",
              "\n",
              "    .dataframe tbody tr th {\n",
              "        vertical-align: top;\n",
              "    }\n",
              "\n",
              "    .dataframe thead th {\n",
              "        text-align: right;\n",
              "    }\n",
              "</style>\n",
              "<table border=\"1\" class=\"dataframe\">\n",
              "  <thead>\n",
              "    <tr style=\"text-align: right;\">\n",
              "      <th></th>\n",
              "      <th>nome</th>\n",
              "      <th>ano nascimento</th>\n",
              "      <th>saldo bancario</th>\n",
              "      <th>profissão</th>\n",
              "      <th>gastos com moradia</th>\n",
              "      <th>gastos co estudos</th>\n",
              "      <th>gastos com alimentação</th>\n",
              "      <th>idade</th>\n",
              "    </tr>\n",
              "  </thead>\n",
              "  <tbody>\n",
              "    <tr>\n",
              "      <th>6</th>\n",
              "      <td>Daiana</td>\n",
              "      <td>1996</td>\n",
              "      <td>2000.00</td>\n",
              "      <td>0</td>\n",
              "      <td>1376.00</td>\n",
              "      <td>134</td>\n",
              "      <td>5634.0</td>\n",
              "      <td>25</td>\n",
              "    </tr>\n",
              "    <tr>\n",
              "      <th>2</th>\n",
              "      <td>Joaquina</td>\n",
              "      <td>1988</td>\n",
              "      <td>30000.00</td>\n",
              "      <td>Médico</td>\n",
              "      <td>1348.00</td>\n",
              "      <td>7641</td>\n",
              "      <td>465.0</td>\n",
              "      <td>33</td>\n",
              "    </tr>\n",
              "    <tr>\n",
              "      <th>4</th>\n",
              "      <td>Jorge</td>\n",
              "      <td>1978</td>\n",
              "      <td>12445.50</td>\n",
              "      <td>Dentista</td>\n",
              "      <td>2357.56</td>\n",
              "      <td>1344</td>\n",
              "      <td>498.0</td>\n",
              "      <td>43</td>\n",
              "    </tr>\n",
              "    <tr>\n",
              "      <th>0</th>\n",
              "      <td>João</td>\n",
              "      <td>1989</td>\n",
              "      <td>10000.00</td>\n",
              "      <td>Musico</td>\n",
              "      <td>2550.00</td>\n",
              "      <td>5643</td>\n",
              "      <td>0.0</td>\n",
              "      <td>32</td>\n",
              "    </tr>\n",
              "    <tr>\n",
              "      <th>3</th>\n",
              "      <td>Maria</td>\n",
              "      <td>2006</td>\n",
              "      <td>50000.00</td>\n",
              "      <td>Professor</td>\n",
              "      <td>3598.00</td>\n",
              "      <td>0</td>\n",
              "      <td>1234.0</td>\n",
              "      <td>15</td>\n",
              "    </tr>\n",
              "    <tr>\n",
              "      <th>1</th>\n",
              "      <td>Pedro</td>\n",
              "      <td>2001</td>\n",
              "      <td>15850.00</td>\n",
              "      <td>Cientista</td>\n",
              "      <td>2658.00</td>\n",
              "      <td>4545</td>\n",
              "      <td>0.0</td>\n",
              "      <td>20</td>\n",
              "    </tr>\n",
              "    <tr>\n",
              "      <th>5</th>\n",
              "      <td>Renata</td>\n",
              "      <td>1990</td>\n",
              "      <td>60568.55</td>\n",
              "      <td>0</td>\n",
              "      <td>1567.00</td>\n",
              "      <td>4566</td>\n",
              "      <td>137.0</td>\n",
              "      <td>31</td>\n",
              "    </tr>\n",
              "  </tbody>\n",
              "</table>\n",
              "</div>"
            ],
            "text/plain": [
              "       nome  ano nascimento  ...  gastos com alimentação idade\n",
              "6    Daiana            1996  ...                  5634.0    25\n",
              "2  Joaquina            1988  ...                   465.0    33\n",
              "4     Jorge            1978  ...                   498.0    43\n",
              "0      João            1989  ...                     0.0    32\n",
              "3     Maria            2006  ...                  1234.0    15\n",
              "1     Pedro            2001  ...                     0.0    20\n",
              "5    Renata            1990  ...                   137.0    31\n",
              "\n",
              "[7 rows x 8 columns]"
            ]
          },
          "metadata": {},
          "execution_count": 10
        }
      ]
    },
    {
      "cell_type": "markdown",
      "metadata": {
        "id": "eQNYi14XbtGg"
      },
      "source": [
        "# 2 - Maior e o menor saldo bancário."
      ]
    },
    {
      "cell_type": "code",
      "metadata": {
        "id": "ib7VpqJob6EZ",
        "colab": {
          "base_uri": "https://localhost:8080/",
          "height": 80
        },
        "outputId": "04d1bbb1-ea50-4c3c-c1d9-eb81738b6136"
      },
      "source": [
        "df[df['saldo bancario']==df['saldo bancario'].max()]"
      ],
      "execution_count": 11,
      "outputs": [
        {
          "output_type": "execute_result",
          "data": {
            "text/html": [
              "<div>\n",
              "<style scoped>\n",
              "    .dataframe tbody tr th:only-of-type {\n",
              "        vertical-align: middle;\n",
              "    }\n",
              "\n",
              "    .dataframe tbody tr th {\n",
              "        vertical-align: top;\n",
              "    }\n",
              "\n",
              "    .dataframe thead th {\n",
              "        text-align: right;\n",
              "    }\n",
              "</style>\n",
              "<table border=\"1\" class=\"dataframe\">\n",
              "  <thead>\n",
              "    <tr style=\"text-align: right;\">\n",
              "      <th></th>\n",
              "      <th>nome</th>\n",
              "      <th>ano nascimento</th>\n",
              "      <th>saldo bancario</th>\n",
              "      <th>profissão</th>\n",
              "      <th>gastos com moradia</th>\n",
              "      <th>gastos co estudos</th>\n",
              "      <th>gastos com alimentação</th>\n",
              "      <th>idade</th>\n",
              "    </tr>\n",
              "  </thead>\n",
              "  <tbody>\n",
              "    <tr>\n",
              "      <th>5</th>\n",
              "      <td>Renata</td>\n",
              "      <td>1990</td>\n",
              "      <td>60568.55</td>\n",
              "      <td>0</td>\n",
              "      <td>1567.0</td>\n",
              "      <td>4566</td>\n",
              "      <td>137.0</td>\n",
              "      <td>31</td>\n",
              "    </tr>\n",
              "  </tbody>\n",
              "</table>\n",
              "</div>"
            ],
            "text/plain": [
              "     nome  ano nascimento  ...  gastos com alimentação idade\n",
              "5  Renata            1990  ...                   137.0    31\n",
              "\n",
              "[1 rows x 8 columns]"
            ]
          },
          "metadata": {},
          "execution_count": 11
        }
      ]
    },
    {
      "cell_type": "code",
      "metadata": {
        "id": "kgD2axP-dRwb",
        "colab": {
          "base_uri": "https://localhost:8080/",
          "height": 80
        },
        "outputId": "6df38cd8-3d06-4b4a-8e54-c1afde4a57f0"
      },
      "source": [
        "df[df['saldo bancario']==df['saldo bancario'].min()]"
      ],
      "execution_count": 12,
      "outputs": [
        {
          "output_type": "execute_result",
          "data": {
            "text/html": [
              "<div>\n",
              "<style scoped>\n",
              "    .dataframe tbody tr th:only-of-type {\n",
              "        vertical-align: middle;\n",
              "    }\n",
              "\n",
              "    .dataframe tbody tr th {\n",
              "        vertical-align: top;\n",
              "    }\n",
              "\n",
              "    .dataframe thead th {\n",
              "        text-align: right;\n",
              "    }\n",
              "</style>\n",
              "<table border=\"1\" class=\"dataframe\">\n",
              "  <thead>\n",
              "    <tr style=\"text-align: right;\">\n",
              "      <th></th>\n",
              "      <th>nome</th>\n",
              "      <th>ano nascimento</th>\n",
              "      <th>saldo bancario</th>\n",
              "      <th>profissão</th>\n",
              "      <th>gastos com moradia</th>\n",
              "      <th>gastos co estudos</th>\n",
              "      <th>gastos com alimentação</th>\n",
              "      <th>idade</th>\n",
              "    </tr>\n",
              "  </thead>\n",
              "  <tbody>\n",
              "    <tr>\n",
              "      <th>6</th>\n",
              "      <td>Daiana</td>\n",
              "      <td>1996</td>\n",
              "      <td>2000.0</td>\n",
              "      <td>0</td>\n",
              "      <td>1376.0</td>\n",
              "      <td>134</td>\n",
              "      <td>5634.0</td>\n",
              "      <td>25</td>\n",
              "    </tr>\n",
              "  </tbody>\n",
              "</table>\n",
              "</div>"
            ],
            "text/plain": [
              "     nome  ano nascimento  ...  gastos com alimentação idade\n",
              "6  Daiana            1996  ...                  5634.0    25\n",
              "\n",
              "[1 rows x 8 columns]"
            ]
          },
          "metadata": {},
          "execution_count": 12
        }
      ]
    },
    {
      "cell_type": "code",
      "metadata": {
        "id": "izPPJXRZfBME",
        "colab": {
          "base_uri": "https://localhost:8080/",
          "height": 291
        },
        "outputId": "446f4d9a-6391-430d-f8ab-3069b725fc81"
      },
      "source": [
        "df.groupby(\"nome\")[\"saldo bancario\"].sum().plot.bar(title= \"Saldo Bancário\")\n",
        "plt.xlabel(\"nome\")\n",
        "plt.ylabel(\"saldo bancario\")\n",
        "plt.xticks(rotation='horizontal'); "
      ],
      "execution_count": 13,
      "outputs": [
        {
          "output_type": "display_data",
          "data": {
            "image/png": "[encoded data removed]",
            "text/plain": [
              "<Figure size 432x288 with 1 Axes>"
            ]
          },
          "metadata": {}
        }
      ]
    },
    {
      "cell_type": "markdown",
      "metadata": {
        "id": "84j1pkoBj1X5"
      },
      "source": [
        "#3 - Gasto acumulado\n",
        "Neste caso criei colunas, para caso precise dos gastos acumulados de outros não tenha que ficar toda hora fazendo contas."
      ]
    },
    {
      "cell_type": "code",
      "metadata": {
        "id": "1BCL0OnBjkGV"
      },
      "source": [
        "df['gasto_acumulado'] = df['gastos co estudos'] + df['gastos com moradia'] + df['gastos com alimentação']"
      ],
      "execution_count": 14,
      "outputs": []
    },
    {
      "cell_type": "code",
      "metadata": {
        "id": "3mDOGCFtla9a",
        "colab": {
          "base_uri": "https://localhost:8080/",
          "height": 97
        },
        "outputId": "fb10db00-3ad5-4d96-97b2-31e6f9c3c6f3"
      },
      "source": [
        "df[df['gasto_acumulado']==df['gasto_acumulado'].max()]"
      ],
      "execution_count": 15,
      "outputs": [
        {
          "output_type": "execute_result",
          "data": {
            "text/html": [
              "<div>\n",
              "<style scoped>\n",
              "    .dataframe tbody tr th:only-of-type {\n",
              "        vertical-align: middle;\n",
              "    }\n",
              "\n",
              "    .dataframe tbody tr th {\n",
              "        vertical-align: top;\n",
              "    }\n",
              "\n",
              "    .dataframe thead th {\n",
              "        text-align: right;\n",
              "    }\n",
              "</style>\n",
              "<table border=\"1\" class=\"dataframe\">\n",
              "  <thead>\n",
              "    <tr style=\"text-align: right;\">\n",
              "      <th></th>\n",
              "      <th>nome</th>\n",
              "      <th>ano nascimento</th>\n",
              "      <th>saldo bancario</th>\n",
              "      <th>profissão</th>\n",
              "      <th>gastos com moradia</th>\n",
              "      <th>gastos co estudos</th>\n",
              "      <th>gastos com alimentação</th>\n",
              "      <th>idade</th>\n",
              "      <th>gasto_acumulado</th>\n",
              "    </tr>\n",
              "  </thead>\n",
              "  <tbody>\n",
              "    <tr>\n",
              "      <th>2</th>\n",
              "      <td>Joaquina</td>\n",
              "      <td>1988</td>\n",
              "      <td>30000.0</td>\n",
              "      <td>Médico</td>\n",
              "      <td>1348.0</td>\n",
              "      <td>7641</td>\n",
              "      <td>465.0</td>\n",
              "      <td>33</td>\n",
              "      <td>9454.0</td>\n",
              "    </tr>\n",
              "  </tbody>\n",
              "</table>\n",
              "</div>"
            ],
            "text/plain": [
              "       nome  ano nascimento  ...  idade gasto_acumulado\n",
              "2  Joaquina            1988  ...     33          9454.0\n",
              "\n",
              "[1 rows x 9 columns]"
            ]
          },
          "metadata": {},
          "execution_count": 15
        }
      ]
    },
    {
      "cell_type": "code",
      "metadata": {
        "id": "qGQyKNuTlxDr",
        "colab": {
          "base_uri": "https://localhost:8080/",
          "height": 97
        },
        "outputId": "cd6cfe2f-14c7-4a3f-e4d6-a2113e9793f6"
      },
      "source": [
        "df[df['gasto_acumulado']==df['gasto_acumulado'].min()]"
      ],
      "execution_count": 16,
      "outputs": [
        {
          "output_type": "execute_result",
          "data": {
            "text/html": [
              "<div>\n",
              "<style scoped>\n",
              "    .dataframe tbody tr th:only-of-type {\n",
              "        vertical-align: middle;\n",
              "    }\n",
              "\n",
              "    .dataframe tbody tr th {\n",
              "        vertical-align: top;\n",
              "    }\n",
              "\n",
              "    .dataframe thead th {\n",
              "        text-align: right;\n",
              "    }\n",
              "</style>\n",
              "<table border=\"1\" class=\"dataframe\">\n",
              "  <thead>\n",
              "    <tr style=\"text-align: right;\">\n",
              "      <th></th>\n",
              "      <th>nome</th>\n",
              "      <th>ano nascimento</th>\n",
              "      <th>saldo bancario</th>\n",
              "      <th>profissão</th>\n",
              "      <th>gastos com moradia</th>\n",
              "      <th>gastos co estudos</th>\n",
              "      <th>gastos com alimentação</th>\n",
              "      <th>idade</th>\n",
              "      <th>gasto_acumulado</th>\n",
              "    </tr>\n",
              "  </thead>\n",
              "  <tbody>\n",
              "    <tr>\n",
              "      <th>4</th>\n",
              "      <td>Jorge</td>\n",
              "      <td>1978</td>\n",
              "      <td>12445.5</td>\n",
              "      <td>Dentista</td>\n",
              "      <td>2357.56</td>\n",
              "      <td>1344</td>\n",
              "      <td>498.0</td>\n",
              "      <td>43</td>\n",
              "      <td>4199.56</td>\n",
              "    </tr>\n",
              "  </tbody>\n",
              "</table>\n",
              "</div>"
            ],
            "text/plain": [
              "    nome  ano nascimento  ...  idade gasto_acumulado\n",
              "4  Jorge            1978  ...     43         4199.56\n",
              "\n",
              "[1 rows x 9 columns]"
            ]
          },
          "metadata": {},
          "execution_count": 16
        }
      ]
    },
    {
      "cell_type": "code",
      "metadata": {
        "id": "yjJODW0V1Jpl",
        "colab": {
          "base_uri": "https://localhost:8080/",
          "height": 282
        },
        "outputId": "86d03833-78a3-47f3-9b9e-74c28d801b38"
      },
      "source": [
        "# Visualizando \n",
        "df"
      ],
      "execution_count": 17,
      "outputs": [
        {
          "output_type": "execute_result",
          "data": {
            "text/html": [
              "<div>\n",
              "<style scoped>\n",
              "    .dataframe tbody tr th:only-of-type {\n",
              "        vertical-align: middle;\n",
              "    }\n",
              "\n",
              "    .dataframe tbody tr th {\n",
              "        vertical-align: top;\n",
              "    }\n",
              "\n",
              "    .dataframe thead th {\n",
              "        text-align: right;\n",
              "    }\n",
              "</style>\n",
              "<table border=\"1\" class=\"dataframe\">\n",
              "  <thead>\n",
              "    <tr style=\"text-align: right;\">\n",
              "      <th></th>\n",
              "      <th>nome</th>\n",
              "      <th>ano nascimento</th>\n",
              "      <th>saldo bancario</th>\n",
              "      <th>profissão</th>\n",
              "      <th>gastos com moradia</th>\n",
              "      <th>gastos co estudos</th>\n",
              "      <th>gastos com alimentação</th>\n",
              "      <th>idade</th>\n",
              "      <th>gasto_acumulado</th>\n",
              "    </tr>\n",
              "  </thead>\n",
              "  <tbody>\n",
              "    <tr>\n",
              "      <th>6</th>\n",
              "      <td>Daiana</td>\n",
              "      <td>1996</td>\n",
              "      <td>2000.00</td>\n",
              "      <td>0</td>\n",
              "      <td>1376.00</td>\n",
              "      <td>134</td>\n",
              "      <td>5634.0</td>\n",
              "      <td>25</td>\n",
              "      <td>7144.00</td>\n",
              "    </tr>\n",
              "    <tr>\n",
              "      <th>2</th>\n",
              "      <td>Joaquina</td>\n",
              "      <td>1988</td>\n",
              "      <td>30000.00</td>\n",
              "      <td>Médico</td>\n",
              "      <td>1348.00</td>\n",
              "      <td>7641</td>\n",
              "      <td>465.0</td>\n",
              "      <td>33</td>\n",
              "      <td>9454.00</td>\n",
              "    </tr>\n",
              "    <tr>\n",
              "      <th>4</th>\n",
              "      <td>Jorge</td>\n",
              "      <td>1978</td>\n",
              "      <td>12445.50</td>\n",
              "      <td>Dentista</td>\n",
              "      <td>2357.56</td>\n",
              "      <td>1344</td>\n",
              "      <td>498.0</td>\n",
              "      <td>43</td>\n",
              "      <td>4199.56</td>\n",
              "    </tr>\n",
              "    <tr>\n",
              "      <th>0</th>\n",
              "      <td>João</td>\n",
              "      <td>1989</td>\n",
              "      <td>10000.00</td>\n",
              "      <td>Musico</td>\n",
              "      <td>2550.00</td>\n",
              "      <td>5643</td>\n",
              "      <td>0.0</td>\n",
              "      <td>32</td>\n",
              "      <td>8193.00</td>\n",
              "    </tr>\n",
              "    <tr>\n",
              "      <th>3</th>\n",
              "      <td>Maria</td>\n",
              "      <td>2006</td>\n",
              "      <td>50000.00</td>\n",
              "      <td>Professor</td>\n",
              "      <td>3598.00</td>\n",
              "      <td>0</td>\n",
              "      <td>1234.0</td>\n",
              "      <td>15</td>\n",
              "      <td>4832.00</td>\n",
              "    </tr>\n",
              "    <tr>\n",
              "      <th>1</th>\n",
              "      <td>Pedro</td>\n",
              "      <td>2001</td>\n",
              "      <td>15850.00</td>\n",
              "      <td>Cientista</td>\n",
              "      <td>2658.00</td>\n",
              "      <td>4545</td>\n",
              "      <td>0.0</td>\n",
              "      <td>20</td>\n",
              "      <td>7203.00</td>\n",
              "    </tr>\n",
              "    <tr>\n",
              "      <th>5</th>\n",
              "      <td>Renata</td>\n",
              "      <td>1990</td>\n",
              "      <td>60568.55</td>\n",
              "      <td>0</td>\n",
              "      <td>1567.00</td>\n",
              "      <td>4566</td>\n",
              "      <td>137.0</td>\n",
              "      <td>31</td>\n",
              "      <td>6270.00</td>\n",
              "    </tr>\n",
              "  </tbody>\n",
              "</table>\n",
              "</div>"
            ],
            "text/plain": [
              "       nome  ano nascimento  ...  idade gasto_acumulado\n",
              "6    Daiana            1996  ...     25         7144.00\n",
              "2  Joaquina            1988  ...     33         9454.00\n",
              "4     Jorge            1978  ...     43         4199.56\n",
              "0      João            1989  ...     32         8193.00\n",
              "3     Maria            2006  ...     15         4832.00\n",
              "1     Pedro            2001  ...     20         7203.00\n",
              "5    Renata            1990  ...     31         6270.00\n",
              "\n",
              "[7 rows x 9 columns]"
            ]
          },
          "metadata": {},
          "execution_count": 17
        }
      ]
    },
    {
      "cell_type": "markdown",
      "metadata": {
        "id": "uF17a1cRnt3J"
      },
      "source": [
        "#4 - Média de Gastos.\n",
        "Também criei uma nova coluna, caso precise da média de outros já terei facilmente."
      ]
    },
    {
      "cell_type": "code",
      "metadata": {
        "id": "Gph8fDfJl9P8"
      },
      "source": [
        "df['media_gastos'] = ((df['gastos co estudos'] + df['gastos com moradia'] + df['gastos com alimentação'])/3).round(2)"
      ],
      "execution_count": 18,
      "outputs": []
    },
    {
      "cell_type": "code",
      "metadata": {
        "id": "HeENW2YvxzDN",
        "colab": {
          "base_uri": "https://localhost:8080/",
          "height": 282
        },
        "outputId": "03dacd3b-7fa8-4169-a1cd-c20c8f5bb66d"
      },
      "source": [
        "df"
      ],
      "execution_count": 19,
      "outputs": [
        {
          "output_type": "execute_result",
          "data": {
            "text/html": [
              "<div>\n",
              "<style scoped>\n",
              "    .dataframe tbody tr th:only-of-type {\n",
              "        vertical-align: middle;\n",
              "    }\n",
              "\n",
              "    .dataframe tbody tr th {\n",
              "        vertical-align: top;\n",
              "    }\n",
              "\n",
              "    .dataframe thead th {\n",
              "        text-align: right;\n",
              "    }\n",
              "</style>\n",
              "<table border=\"1\" class=\"dataframe\">\n",
              "  <thead>\n",
              "    <tr style=\"text-align: right;\">\n",
              "      <th></th>\n",
              "      <th>nome</th>\n",
              "      <th>ano nascimento</th>\n",
              "      <th>saldo bancario</th>\n",
              "      <th>profissão</th>\n",
              "      <th>gastos com moradia</th>\n",
              "      <th>gastos co estudos</th>\n",
              "      <th>gastos com alimentação</th>\n",
              "      <th>idade</th>\n",
              "      <th>gasto_acumulado</th>\n",
              "      <th>media_gastos</th>\n",
              "    </tr>\n",
              "  </thead>\n",
              "  <tbody>\n",
              "    <tr>\n",
              "      <th>6</th>\n",
              "      <td>Daiana</td>\n",
              "      <td>1996</td>\n",
              "      <td>2000.00</td>\n",
              "      <td>0</td>\n",
              "      <td>1376.00</td>\n",
              "      <td>134</td>\n",
              "      <td>5634.0</td>\n",
              "      <td>25</td>\n",
              "      <td>7144.00</td>\n",
              "      <td>2381.33</td>\n",
              "    </tr>\n",
              "    <tr>\n",
              "      <th>2</th>\n",
              "      <td>Joaquina</td>\n",
              "      <td>1988</td>\n",
              "      <td>30000.00</td>\n",
              "      <td>Médico</td>\n",
              "      <td>1348.00</td>\n",
              "      <td>7641</td>\n",
              "      <td>465.0</td>\n",
              "      <td>33</td>\n",
              "      <td>9454.00</td>\n",
              "      <td>3151.33</td>\n",
              "    </tr>\n",
              "    <tr>\n",
              "      <th>4</th>\n",
              "      <td>Jorge</td>\n",
              "      <td>1978</td>\n",
              "      <td>12445.50</td>\n",
              "      <td>Dentista</td>\n",
              "      <td>2357.56</td>\n",
              "      <td>1344</td>\n",
              "      <td>498.0</td>\n",
              "      <td>43</td>\n",
              "      <td>4199.56</td>\n",
              "      <td>1399.85</td>\n",
              "    </tr>\n",
              "    <tr>\n",
              "      <th>0</th>\n",
              "      <td>João</td>\n",
              "      <td>1989</td>\n",
              "      <td>10000.00</td>\n",
              "      <td>Musico</td>\n",
              "      <td>2550.00</td>\n",
              "      <td>5643</td>\n",
              "      <td>0.0</td>\n",
              "      <td>32</td>\n",
              "      <td>8193.00</td>\n",
              "      <td>2731.00</td>\n",
              "    </tr>\n",
              "    <tr>\n",
              "      <th>3</th>\n",
              "      <td>Maria</td>\n",
              "      <td>2006</td>\n",
              "      <td>50000.00</td>\n",
              "      <td>Professor</td>\n",
              "      <td>3598.00</td>\n",
              "      <td>0</td>\n",
              "      <td>1234.0</td>\n",
              "      <td>15</td>\n",
              "      <td>4832.00</td>\n",
              "      <td>1610.67</td>\n",
              "    </tr>\n",
              "    <tr>\n",
              "      <th>1</th>\n",
              "      <td>Pedro</td>\n",
              "      <td>2001</td>\n",
              "      <td>15850.00</td>\n",
              "      <td>Cientista</td>\n",
              "      <td>2658.00</td>\n",
              "      <td>4545</td>\n",
              "      <td>0.0</td>\n",
              "      <td>20</td>\n",
              "      <td>7203.00</td>\n",
              "      <td>2401.00</td>\n",
              "    </tr>\n",
              "    <tr>\n",
              "      <th>5</th>\n",
              "      <td>Renata</td>\n",
              "      <td>1990</td>\n",
              "      <td>60568.55</td>\n",
              "      <td>0</td>\n",
              "      <td>1567.00</td>\n",
              "      <td>4566</td>\n",
              "      <td>137.0</td>\n",
              "      <td>31</td>\n",
              "      <td>6270.00</td>\n",
              "      <td>2090.00</td>\n",
              "    </tr>\n",
              "  </tbody>\n",
              "</table>\n",
              "</div>"
            ],
            "text/plain": [
              "       nome  ano nascimento  ...  gasto_acumulado media_gastos\n",
              "6    Daiana            1996  ...          7144.00      2381.33\n",
              "2  Joaquina            1988  ...          9454.00      3151.33\n",
              "4     Jorge            1978  ...          4199.56      1399.85\n",
              "0      João            1989  ...          8193.00      2731.00\n",
              "3     Maria            2006  ...          4832.00      1610.67\n",
              "1     Pedro            2001  ...          7203.00      2401.00\n",
              "5    Renata            1990  ...          6270.00      2090.00\n",
              "\n",
              "[7 rows x 10 columns]"
            ]
          },
          "metadata": {},
          "execution_count": 19
        }
      ]
    },
    {
      "cell_type": "markdown",
      "metadata": {
        "id": "weWplm2-xd-g"
      },
      "source": [
        "#Visualizando quem mais gasta com estudos."
      ]
    },
    {
      "cell_type": "code",
      "metadata": {
        "id": "bidfHKmNxLte",
        "colab": {
          "base_uri": "https://localhost:8080/",
          "height": 291
        },
        "outputId": "22b9b602-d6d1-4d7f-a137-f4b6ea59f71a"
      },
      "source": [
        "df.groupby(\"nome\")[\"gastos co estudos\"].sum().plot.bar(title= \"Gastos com Estudos\")\n",
        "plt.xlabel(\"nome\")\n",
        "plt.ylabel(\"gastos co estudos\")\n",
        "plt.xticks(rotation='horizontal'); "
      ],
      "execution_count": 20,
      "outputs": [
        {
          "output_type": "display_data",
          "data": {
            "image/png": "[encoded data removed]",
            "text/plain": [
              "<Figure size 432x288 with 1 Axes>"
            ]
          },
          "metadata": {}
        }
      ]
    },
    {
      "cell_type": "markdown",
      "metadata": {
        "id": "IWy__J_60ski"
      },
      "source": [
        "#Visualizando gastos com Alimentação."
      ]
    },
    {
      "cell_type": "code",
      "metadata": {
        "id": "KgXpcSgdx6UD",
        "colab": {
          "base_uri": "https://localhost:8080/",
          "height": 291
        },
        "outputId": "7bb9c496-26d2-446b-812e-0876a5df7172"
      },
      "source": [
        "df.groupby(\"nome\")[\"gastos com alimentação\"].sum().plot.bar(title= \"Gastos com Alimentação\")\n",
        "plt.xlabel(\"nome\")\n",
        "plt.ylabel(\"gastos com alimentação\")\n",
        "plt.xticks(rotation='horizontal'); "
      ],
      "execution_count": 21,
      "outputs": [
        {
          "output_type": "display_data",
          "data": {
            "image/png": "[encoded data removed]",
            "text/plain": [
              "<Figure size 432x288 with 1 Axes>"
            ]
          },
          "metadata": {}
        }
      ]
    }
  ]
}